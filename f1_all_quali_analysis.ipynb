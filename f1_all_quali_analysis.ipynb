{
 "cells": [
  {
   "cell_type": "markdown",
   "metadata": {},
   "source": [
    "## All Qualifying Session Analysis\n",
    "\n",
    "Using the data gathered in the previous file, I will conduct an analysis for all qualifying sessions & drivers in the 2021 season.\n",
    "\n",
    "The data contains the fastest lap for each driver in each qualifying session in the 2021 season"
   ]
  },
  {
   "cell_type": "code",
   "execution_count": 2,
   "metadata": {},
   "outputs": [],
   "source": [
    "#Setting up - import packages\n",
    "import pandas as pd\n",
    "import numpy as np\n",
    "import fastf1 as ff1\n",
    "#Enable the cache\n",
    "ff1.Cache.enable_cache('C:/Users/jackh/OneDrive/Documents/Python Scripts/f1_cache') "
   ]
  },
  {
   "cell_type": "code",
   "execution_count": 3,
   "metadata": {},
   "outputs": [],
   "source": [
    "#Load existing data - saved as .csv file\n",
    "raw = pd.read_csv('C:/Users/jackh/OneDrive/Documents/Python Scripts/2021_f1_qualifying_laps.csv')"
   ]
  },
  {
   "cell_type": "code",
   "execution_count": 4,
   "metadata": {},
   "outputs": [
    {
     "data": {
      "text/html": [
       "<div>\n",
       "<style scoped>\n",
       "    .dataframe tbody tr th:only-of-type {\n",
       "        vertical-align: middle;\n",
       "    }\n",
       "\n",
       "    .dataframe tbody tr th {\n",
       "        vertical-align: top;\n",
       "    }\n",
       "\n",
       "    .dataframe thead th {\n",
       "        text-align: right;\n",
       "    }\n",
       "</style>\n",
       "<table border=\"1\" class=\"dataframe\">\n",
       "  <thead>\n",
       "    <tr style=\"text-align: right;\">\n",
       "      <th></th>\n",
       "      <th>Unnamed: 0</th>\n",
       "      <th>Date</th>\n",
       "      <th>SessionTime</th>\n",
       "      <th>DriverAhead</th>\n",
       "      <th>DistanceToDriverAhead</th>\n",
       "      <th>Time</th>\n",
       "      <th>RPM</th>\n",
       "      <th>Speed</th>\n",
       "      <th>nGear</th>\n",
       "      <th>Throttle</th>\n",
       "      <th>...</th>\n",
       "      <th>Source</th>\n",
       "      <th>RelativeDistance</th>\n",
       "      <th>Status</th>\n",
       "      <th>X</th>\n",
       "      <th>Y</th>\n",
       "      <th>Z</th>\n",
       "      <th>Distance</th>\n",
       "      <th>Driver</th>\n",
       "      <th>GP</th>\n",
       "      <th>Location</th>\n",
       "    </tr>\n",
       "  </thead>\n",
       "  <tbody>\n",
       "    <tr>\n",
       "      <th>0</th>\n",
       "      <td>0</td>\n",
       "      <td>2021-03-27 15:59:07.466</td>\n",
       "      <td>0 days 01:14:07.081000</td>\n",
       "      <td>NaN</td>\n",
       "      <td>715.495556</td>\n",
       "      <td>0 days 00:00:00</td>\n",
       "      <td>10531</td>\n",
       "      <td>295</td>\n",
       "      <td>8</td>\n",
       "      <td>100</td>\n",
       "      <td>...</td>\n",
       "      <td>interpolation</td>\n",
       "      <td>0.000016</td>\n",
       "      <td>OnTrack</td>\n",
       "      <td>-384</td>\n",
       "      <td>1200</td>\n",
       "      <td>-159</td>\n",
       "      <td>0.000000</td>\n",
       "      <td>VER</td>\n",
       "      <td>1</td>\n",
       "      <td>Bahrain</td>\n",
       "    </tr>\n",
       "    <tr>\n",
       "      <th>1</th>\n",
       "      <td>1</td>\n",
       "      <td>2021-03-27 15:59:07.603</td>\n",
       "      <td>0 days 01:14:07.218000</td>\n",
       "      <td>NaN</td>\n",
       "      <td>715.495556</td>\n",
       "      <td>0 days 00:00:00.137000</td>\n",
       "      <td>10537</td>\n",
       "      <td>296</td>\n",
       "      <td>8</td>\n",
       "      <td>100</td>\n",
       "      <td>...</td>\n",
       "      <td>pos</td>\n",
       "      <td>0.002104</td>\n",
       "      <td>OnTrack</td>\n",
       "      <td>-378</td>\n",
       "      <td>1312</td>\n",
       "      <td>-159</td>\n",
       "      <td>11.264444</td>\n",
       "      <td>VER</td>\n",
       "      <td>1</td>\n",
       "      <td>Bahrain</td>\n",
       "    </tr>\n",
       "    <tr>\n",
       "      <th>2</th>\n",
       "      <td>2</td>\n",
       "      <td>2021-03-27 15:59:07.635</td>\n",
       "      <td>0 days 01:14:07.250000</td>\n",
       "      <td>NaN</td>\n",
       "      <td>715.495556</td>\n",
       "      <td>0 days 00:00:00.169000</td>\n",
       "      <td>10549</td>\n",
       "      <td>297</td>\n",
       "      <td>8</td>\n",
       "      <td>100</td>\n",
       "      <td>...</td>\n",
       "      <td>car</td>\n",
       "      <td>0.002592</td>\n",
       "      <td>OnTrack</td>\n",
       "      <td>-376</td>\n",
       "      <td>1338</td>\n",
       "      <td>-159</td>\n",
       "      <td>13.904444</td>\n",
       "      <td>VER</td>\n",
       "      <td>1</td>\n",
       "      <td>Bahrain</td>\n",
       "    </tr>\n",
       "    <tr>\n",
       "      <th>3</th>\n",
       "      <td>3</td>\n",
       "      <td>2021-03-27 15:59:07.823</td>\n",
       "      <td>0 days 01:14:07.438000</td>\n",
       "      <td>NaN</td>\n",
       "      <td>715.495556</td>\n",
       "      <td>0 days 00:00:00.357000</td>\n",
       "      <td>10635</td>\n",
       "      <td>297</td>\n",
       "      <td>8</td>\n",
       "      <td>100</td>\n",
       "      <td>...</td>\n",
       "      <td>pos</td>\n",
       "      <td>0.005465</td>\n",
       "      <td>OnTrack</td>\n",
       "      <td>-369</td>\n",
       "      <td>1493</td>\n",
       "      <td>-159</td>\n",
       "      <td>29.414444</td>\n",
       "      <td>VER</td>\n",
       "      <td>1</td>\n",
       "      <td>Bahrain</td>\n",
       "    </tr>\n",
       "    <tr>\n",
       "      <th>4</th>\n",
       "      <td>4</td>\n",
       "      <td>2021-03-27 15:59:07.875</td>\n",
       "      <td>0 days 01:14:07.490000</td>\n",
       "      <td>44.0</td>\n",
       "      <td>715.495556</td>\n",
       "      <td>0 days 00:00:00.409000</td>\n",
       "      <td>10721</td>\n",
       "      <td>298</td>\n",
       "      <td>8</td>\n",
       "      <td>100</td>\n",
       "      <td>...</td>\n",
       "      <td>car</td>\n",
       "      <td>0.006262</td>\n",
       "      <td>OnTrack</td>\n",
       "      <td>-367</td>\n",
       "      <td>1536</td>\n",
       "      <td>-158</td>\n",
       "      <td>33.718889</td>\n",
       "      <td>VER</td>\n",
       "      <td>1</td>\n",
       "      <td>Bahrain</td>\n",
       "    </tr>\n",
       "  </tbody>\n",
       "</table>\n",
       "<p>5 rows × 22 columns</p>\n",
       "</div>"
      ],
      "text/plain": [
       "   Unnamed: 0                     Date             SessionTime  DriverAhead  \\\n",
       "0           0  2021-03-27 15:59:07.466  0 days 01:14:07.081000          NaN   \n",
       "1           1  2021-03-27 15:59:07.603  0 days 01:14:07.218000          NaN   \n",
       "2           2  2021-03-27 15:59:07.635  0 days 01:14:07.250000          NaN   \n",
       "3           3  2021-03-27 15:59:07.823  0 days 01:14:07.438000          NaN   \n",
       "4           4  2021-03-27 15:59:07.875  0 days 01:14:07.490000         44.0   \n",
       "\n",
       "   DistanceToDriverAhead                    Time    RPM  Speed  nGear  \\\n",
       "0             715.495556         0 days 00:00:00  10531    295      8   \n",
       "1             715.495556  0 days 00:00:00.137000  10537    296      8   \n",
       "2             715.495556  0 days 00:00:00.169000  10549    297      8   \n",
       "3             715.495556  0 days 00:00:00.357000  10635    297      8   \n",
       "4             715.495556  0 days 00:00:00.409000  10721    298      8   \n",
       "\n",
       "   Throttle  ...         Source  RelativeDistance   Status    X     Y    Z  \\\n",
       "0       100  ...  interpolation          0.000016  OnTrack -384  1200 -159   \n",
       "1       100  ...            pos          0.002104  OnTrack -378  1312 -159   \n",
       "2       100  ...            car          0.002592  OnTrack -376  1338 -159   \n",
       "3       100  ...            pos          0.005465  OnTrack -369  1493 -159   \n",
       "4       100  ...            car          0.006262  OnTrack -367  1536 -158   \n",
       "\n",
       "    Distance  Driver  GP Location  \n",
       "0   0.000000     VER   1  Bahrain  \n",
       "1  11.264444     VER   1  Bahrain  \n",
       "2  13.904444     VER   1  Bahrain  \n",
       "3  29.414444     VER   1  Bahrain  \n",
       "4  33.718889     VER   1  Bahrain  \n",
       "\n",
       "[5 rows x 22 columns]"
      ]
     },
     "execution_count": 4,
     "metadata": {},
     "output_type": "execute_result"
    }
   ],
   "source": [
    "raw.head()"
   ]
  },
  {
   "cell_type": "markdown",
   "metadata": {},
   "source": [
    "### I: Breaking Down Tracks into Minisectors\n",
    "\n",
    "I will build an intra-team comparison across the season; however, before we analyze drivers we must break each track into minisectors, because telemetry data does not exactly line up at each point. By grouping each lap into minisectors we can analyze each teammate's performance on the same granularity."
   ]
  },
  {
   "cell_type": "code",
   "execution_count": 6,
   "metadata": {},
   "outputs": [],
   "source": [
    "#Define number of minisectors\n",
    "num_minisectors = 25.0\n",
    "#Find the max distance for each gp\n",
    "distance_gp = raw.groupby('GP')['Distance'].max().reset_index().rename(columns = {\"Distance\":\"max_distance\"})\n",
    "#And attach to main df\n",
    "df = raw.merge(distance_gp, how = 'inner', on = 'GP')"
   ]
  },
  {
   "cell_type": "code",
   "execution_count": 7,
   "metadata": {},
   "outputs": [],
   "source": [
    "#Now calculate the minisector for each point in the data\n",
    "df['Minisector'] = (df['Distance'] // (df['max_distance']/num_minisectors + .01) ) + 1\n",
    "\n",
    "#And convert minisector to integer type - must do this in a second step\n",
    "df['Minisector'] = df['Minisector'].astype(int)"
   ]
  },
  {
   "cell_type": "markdown",
   "metadata": {},
   "source": [
    "### II: Assigning each driver an average speed per track & minisector\n",
    "\n",
    "Because the telemetry isn't captured at exactly the same spot for each driver, a good way to break down performance is to capture average speed per minisector."
   ]
  },
  {
   "cell_type": "code",
   "execution_count": 9,
   "metadata": {},
   "outputs": [],
   "source": [
    "#First - create an object that ranks overall speed of each driver, so that we ensure each team's faster driver is the one that comes out ahead vs. his teammate (ie the gap in speed is always positive for the faster driver)\n",
    "r = df[[\"Location\", \"Driver\", \"Speed\"]]\n",
    "r = r.groupby(['Location', 'Driver'])['Speed'].mean().reset_index()\n",
    "r['rank'] = r.groupby('Location')['Speed'].rank(ascending = False)\n",
    "r = r.drop('Speed', axis = 1)"
   ]
  },
  {
   "cell_type": "code",
   "execution_count": 10,
   "metadata": {},
   "outputs": [],
   "source": [
    "#And merge into the dataframe\n",
    "df = df.merge(r, how = 'left', on = ['Location', 'Driver'])"
   ]
  },
  {
   "cell_type": "code",
   "execution_count": 13,
   "metadata": {},
   "outputs": [],
   "source": [
    "#Add team information to dataset\n",
    "driver_team = pd.DataFrame({'Driver':['VER', 'PER', 'HAM', 'BOT', 'LEC', 'SAI', 'RIC', 'NOR', 'ALO', 'OCO'\n",
    "                                      , 'VET', 'STR', 'GAS', 'TSU', 'RUS', 'LAT', 'RAI', 'GIO', 'MSC', 'MAZ'],\n",
    "                            'Team': ['Red Bull', 'Red Bull', 'Mercedes', 'Mercedes', 'Ferrari', 'Ferrari', 'McLaren', 'McLaren', 'Alpine', 'Alpine'\n",
    "                                     , 'Aston Martin', 'Aston Martin', 'Alpha Tauri', 'Alpha Tauri', 'Williams', 'Williams', 'Alfa Romeo' , 'Alfa Romeo', 'Haas', 'Haas']})\n",
    "\n",
    "df = df.merge(driver_team, how = 'left', on = 'Driver')"
   ]
  },
  {
   "cell_type": "code",
   "execution_count": 16,
   "metadata": {},
   "outputs": [],
   "source": [
    "#Calculate each driver's minisector speed for each session, an arrange the results based on overall rank in the session\n",
    "average_speed = df.groupby(['GP', 'Location', 'Minisector', 'Team', 'Driver', 'rank'])['Speed'].mean().reset_index().sort_values(by=['GP', 'Team', 'Minisector', 'rank'], ascending = (True))"
   ]
  },
  {
   "cell_type": "markdown",
   "metadata": {},
   "source": [
    "### Assign each minisector a speed category\n",
    "Based on each driver's average speed through that minisector"
   ]
  },
  {
   "cell_type": "code",
   "execution_count": 32,
   "metadata": {},
   "outputs": [],
   "source": [
    "#Determine what the cutoff is for a 'low speed' and 'high speed' minisector is for each track\n",
    "sector_speed = df.groupby(['Location', 'Minisector'])['Speed'].mean().reset_index()\n",
    "low_speeds = sector_speed.groupby('Location')['Speed'].quantile(q=.33).rename('low_speed_threshold').reset_index()\n",
    "high_speeds = sector_speed.groupby('Location')['Speed'].quantile(q=.66).rename('high_speed_threshold').reset_index()\n",
    "\n",
    "speed_key = low_speeds.merge(high_speeds, how = 'inner', on = 'Location')\n"
   ]
  },
  {
   "cell_type": "code",
   "execution_count": 35,
   "metadata": {},
   "outputs": [],
   "source": [
    "#Now we can compare the thresholds to the average speeds each driver maintained in each minisector\n",
    "#To do this, we'll come up with a grid-wide average speed indicator, similar to the average_speed table above\n",
    "field_average_speed = df.groupby(['Location', 'Minisector'])['Speed'].mean().reset_index().sort_values(by=['Location', 'Minisector'], ascending = (True))\n",
    "\n",
    "#And apply the speed_key object to this table\n",
    "field_average_speed = field_average_speed.merge(speed_key, how = 'left', on = 'Location')\n"
   ]
  },
  {
   "cell_type": "code",
   "execution_count": 43,
   "metadata": {},
   "outputs": [],
   "source": [
    "#Now we can assign each track's minisector a high, medium, or low value\n",
    "field_average_speed['Sector_speed'] = np.where(field_average_speed['Speed'].lt(field_average_speed['low_speed_threshold']), 'Low',np.where(field_average_speed['Speed'].lt(field_average_speed['high_speed_threshold']),'Medium', 'High'))\n",
    "#And drop the extra columns\n",
    "field_average_speed = field_average_speed.drop(columns=['Speed', 'low_speed_threshold', 'high_speed_threshold'])"
   ]
  },
  {
   "cell_type": "code",
   "execution_count": 44,
   "metadata": {},
   "outputs": [],
   "source": [
    "#And join it to the main data frame\n",
    "average_speed = average_speed.merge(field_average_speed, how = 'left', on = ['Location', 'Minisector'])"
   ]
  },
  {
   "cell_type": "code",
   "execution_count": 45,
   "metadata": {},
   "outputs": [
    {
     "data": {
      "text/html": [
       "<div>\n",
       "<style scoped>\n",
       "    .dataframe tbody tr th:only-of-type {\n",
       "        vertical-align: middle;\n",
       "    }\n",
       "\n",
       "    .dataframe tbody tr th {\n",
       "        vertical-align: top;\n",
       "    }\n",
       "\n",
       "    .dataframe thead th {\n",
       "        text-align: right;\n",
       "    }\n",
       "</style>\n",
       "<table border=\"1\" class=\"dataframe\">\n",
       "  <thead>\n",
       "    <tr style=\"text-align: right;\">\n",
       "      <th></th>\n",
       "      <th>GP</th>\n",
       "      <th>Location</th>\n",
       "      <th>Minisector</th>\n",
       "      <th>Team</th>\n",
       "      <th>Driver</th>\n",
       "      <th>rank</th>\n",
       "      <th>Speed</th>\n",
       "      <th>Sector_speed</th>\n",
       "    </tr>\n",
       "  </thead>\n",
       "  <tbody>\n",
       "    <tr>\n",
       "      <th>0</th>\n",
       "      <td>1</td>\n",
       "      <td>Bahrain</td>\n",
       "      <td>1</td>\n",
       "      <td>Alfa Romeo</td>\n",
       "      <td>GIO</td>\n",
       "      <td>13.0</td>\n",
       "      <td>303.173913</td>\n",
       "      <td>High</td>\n",
       "    </tr>\n",
       "    <tr>\n",
       "      <th>1</th>\n",
       "      <td>1</td>\n",
       "      <td>Bahrain</td>\n",
       "      <td>1</td>\n",
       "      <td>Alfa Romeo</td>\n",
       "      <td>RAI</td>\n",
       "      <td>14.0</td>\n",
       "      <td>302.916667</td>\n",
       "      <td>High</td>\n",
       "    </tr>\n",
       "    <tr>\n",
       "      <th>2</th>\n",
       "      <td>1</td>\n",
       "      <td>Bahrain</td>\n",
       "      <td>2</td>\n",
       "      <td>Alfa Romeo</td>\n",
       "      <td>GIO</td>\n",
       "      <td>13.0</td>\n",
       "      <td>315.045455</td>\n",
       "      <td>High</td>\n",
       "    </tr>\n",
       "    <tr>\n",
       "      <th>3</th>\n",
       "      <td>1</td>\n",
       "      <td>Bahrain</td>\n",
       "      <td>2</td>\n",
       "      <td>Alfa Romeo</td>\n",
       "      <td>RAI</td>\n",
       "      <td>14.0</td>\n",
       "      <td>314.714286</td>\n",
       "      <td>High</td>\n",
       "    </tr>\n",
       "    <tr>\n",
       "      <th>4</th>\n",
       "      <td>1</td>\n",
       "      <td>Bahrain</td>\n",
       "      <td>3</td>\n",
       "      <td>Alfa Romeo</td>\n",
       "      <td>GIO</td>\n",
       "      <td>13.0</td>\n",
       "      <td>311.227273</td>\n",
       "      <td>High</td>\n",
       "    </tr>\n",
       "  </tbody>\n",
       "</table>\n",
       "</div>"
      ],
      "text/plain": [
       "   GP Location  Minisector        Team Driver  rank       Speed Sector_speed\n",
       "0   1  Bahrain           1  Alfa Romeo    GIO  13.0  303.173913         High\n",
       "1   1  Bahrain           1  Alfa Romeo    RAI  14.0  302.916667         High\n",
       "2   1  Bahrain           2  Alfa Romeo    GIO  13.0  315.045455         High\n",
       "3   1  Bahrain           2  Alfa Romeo    RAI  14.0  314.714286         High\n",
       "4   1  Bahrain           3  Alfa Romeo    GIO  13.0  311.227273         High"
      ]
     },
     "execution_count": 45,
     "metadata": {},
     "output_type": "execute_result"
    }
   ],
   "source": [
    "average_speed.head()"
   ]
  },
  {
   "cell_type": "markdown",
   "metadata": {},
   "source": [
    "### III: Analysis"
   ]
  },
  {
   "cell_type": "code",
   "execution_count": null,
   "metadata": {},
   "outputs": [],
   "source": []
  }
 ],
 "metadata": {
  "interpreter": {
   "hash": "4e0f95acda27a413e9062644f9c69e531daa6bb68e85e50cfb7d80e604410da5"
  },
  "kernelspec": {
   "display_name": "Python 3.8.11 64-bit ('base': conda)",
   "language": "python",
   "name": "python3"
  },
  "language_info": {
   "codemirror_mode": {
    "name": "ipython",
    "version": 3
   },
   "file_extension": ".py",
   "mimetype": "text/x-python",
   "name": "python",
   "nbconvert_exporter": "python",
   "pygments_lexer": "ipython3",
   "version": "3.8.11"
  },
  "orig_nbformat": 4
 },
 "nbformat": 4,
 "nbformat_minor": 2
}
