{
 "cells": [
  {
   "cell_type": "markdown",
   "metadata": {},
   "source": [
    "# Formula 1 Qualifying Comparison\n",
    "\n",
    "In this script I will analyze the fastest qualifying laps at the pivotal race of the 2021 season, the Abu Dhabi GP.\n",
    "\n",
    "The data in this analysis comes from the fastf1 package, which contains lots of F1 data. I am still familiarizing myself with this package, but I've figured out some basics."
   ]
  },
  {
   "cell_type": "markdown",
   "metadata": {},
   "source": [
    "### Setting Up"
   ]
  },
  {
   "cell_type": "code",
   "execution_count": 18,
   "metadata": {},
   "outputs": [],
   "source": [
    "#Import necessary packages\n",
    "import fastf1 as ff1\n",
    "from fastf1 import plotting\n",
    "from matplotlib import pyplot as plt\n",
    "import numpy as np\n",
    "import pandas as pd\n"
   ]
  },
  {
   "cell_type": "code",
   "execution_count": 19,
   "metadata": {},
   "outputs": [],
   "source": [
    "#Enable the cache\n",
    "ff1.Cache.enable_cache('C:/Users/jackh/OneDrive/Documents/Python Scripts/f1_cache') \n",
    "\n",
    "#Set up ff1 plotting\n",
    "plotting.setup_mpl()"
   ]
  },
  {
   "cell_type": "markdown",
   "metadata": {},
   "source": [
    "## Part I: Verstappen vs. Hamilton"
   ]
  },
  {
   "cell_type": "markdown",
   "metadata": {},
   "source": [
    "The Abu Dhabi GP was the most important race of the season because it decided the championship between Verstappen & Hamilton. Our goal is to gain a little insight as to the parts of each driver's qualifying lap that made the difference, in which Verstappen ultimately won pole over Hamilton.\n",
    "I'll start by downloading all the data for the qualifying session"
   ]
  },
  {
   "cell_type": "code",
   "execution_count": 20,
   "metadata": {},
   "outputs": [
    {
     "name": "stderr",
     "output_type": "stream",
     "text": [
      "core           INFO \tLoading laps for Abu Dhabi Grand Prix - Qualifying [v2.1.13]\n",
      "api            INFO \tUsing cached data for timing_data\n",
      "api            INFO \tUsing cached data for timing_app_data\n",
      "core           INFO \tProcessing timing data...\n",
      "api            INFO \tUsing cached data for driver_info\n",
      "api            INFO \tUsing cached data for session_status_data\n",
      "api            INFO \tUsing cached data for track_status_data\n",
      "api            INFO \tUsing cached data for car_data\n",
      "api            INFO \tUsing cached data for position_data\n",
      "api            INFO \tUsing cached data for weather_data\n",
      "core           INFO \tLoaded data for 20 drivers: ['99', '9', '4', '7', '6', '44', '55', '11', '16', '14', '33', '3', '77', '31', '18', '63', '10', '47', '22', '5']\n"
     ]
    }
   ],
   "source": [
    "#Get data\n",
    "quali = ff1.get_session(2021, 'Abu Dhabi', 'Q')\n",
    "\n",
    "#Get the laps\n",
    "laps = quali.load_laps(with_telemetry=True)"
   ]
  },
  {
   "cell_type": "markdown",
   "metadata": {},
   "source": [
    "Now I can select all the laps that Verstappen & Hamilton drove in qualifying and choose their fastest"
   ]
  },
  {
   "cell_type": "code",
   "execution_count": 21,
   "metadata": {},
   "outputs": [
    {
     "data": {
      "text/html": [
       "<div>\n",
       "<style scoped>\n",
       "    .dataframe tbody tr th:only-of-type {\n",
       "        vertical-align: middle;\n",
       "    }\n",
       "\n",
       "    .dataframe tbody tr th {\n",
       "        vertical-align: top;\n",
       "    }\n",
       "\n",
       "    .dataframe thead th {\n",
       "        text-align: right;\n",
       "    }\n",
       "</style>\n",
       "<table border=\"1\" class=\"dataframe\">\n",
       "  <thead>\n",
       "    <tr style=\"text-align: right;\">\n",
       "      <th></th>\n",
       "      <th>Date</th>\n",
       "      <th>SessionTime</th>\n",
       "      <th>DriverAhead</th>\n",
       "      <th>DistanceToDriverAhead</th>\n",
       "      <th>Time</th>\n",
       "      <th>RPM</th>\n",
       "      <th>Speed</th>\n",
       "      <th>nGear</th>\n",
       "      <th>Throttle</th>\n",
       "      <th>Brake</th>\n",
       "      <th>DRS</th>\n",
       "      <th>Source</th>\n",
       "      <th>RelativeDistance</th>\n",
       "      <th>Status</th>\n",
       "      <th>X</th>\n",
       "      <th>Y</th>\n",
       "      <th>Z</th>\n",
       "      <th>Distance</th>\n",
       "      <th>Driver</th>\n",
       "    </tr>\n",
       "  </thead>\n",
       "  <tbody>\n",
       "    <tr>\n",
       "      <th>2</th>\n",
       "      <td>2021-12-11 13:52:51.006</td>\n",
       "      <td>0 days 01:07:50.822000</td>\n",
       "      <td></td>\n",
       "      <td>366.041667</td>\n",
       "      <td>0 days 00:00:00</td>\n",
       "      <td>11049</td>\n",
       "      <td>234</td>\n",
       "      <td>5</td>\n",
       "      <td>100</td>\n",
       "      <td>0</td>\n",
       "      <td>8</td>\n",
       "      <td>interpolation</td>\n",
       "      <td>0.000075</td>\n",
       "      <td>OnTrack</td>\n",
       "      <td>532</td>\n",
       "      <td>2076</td>\n",
       "      <td>-241</td>\n",
       "      <td>0.000000</td>\n",
       "      <td>VER</td>\n",
       "    </tr>\n",
       "    <tr>\n",
       "      <th>3</th>\n",
       "      <td>2021-12-11 13:52:51.029</td>\n",
       "      <td>0 days 01:07:50.845000</td>\n",
       "      <td></td>\n",
       "      <td>366.041667</td>\n",
       "      <td>0 days 00:00:00.023000</td>\n",
       "      <td>11005</td>\n",
       "      <td>235</td>\n",
       "      <td>5</td>\n",
       "      <td>100</td>\n",
       "      <td>0</td>\n",
       "      <td>8</td>\n",
       "      <td>pos</td>\n",
       "      <td>0.000368</td>\n",
       "      <td>OnTrack</td>\n",
       "      <td>546</td>\n",
       "      <td>2077</td>\n",
       "      <td>-239</td>\n",
       "      <td>1.501389</td>\n",
       "      <td>VER</td>\n",
       "    </tr>\n",
       "    <tr>\n",
       "      <th>4</th>\n",
       "      <td>2021-12-11 13:52:51.036</td>\n",
       "      <td>0 days 01:07:50.852000</td>\n",
       "      <td></td>\n",
       "      <td>366.041667</td>\n",
       "      <td>0 days 00:00:00.030000</td>\n",
       "      <td>10918</td>\n",
       "      <td>238</td>\n",
       "      <td>6</td>\n",
       "      <td>100</td>\n",
       "      <td>0</td>\n",
       "      <td>8</td>\n",
       "      <td>car</td>\n",
       "      <td>0.000458</td>\n",
       "      <td>OnTrack</td>\n",
       "      <td>550</td>\n",
       "      <td>2077</td>\n",
       "      <td>-238</td>\n",
       "      <td>1.964167</td>\n",
       "      <td>VER</td>\n",
       "    </tr>\n",
       "    <tr>\n",
       "      <th>5</th>\n",
       "      <td>2021-12-11 13:52:51.249</td>\n",
       "      <td>0 days 01:07:51.065000</td>\n",
       "      <td></td>\n",
       "      <td>366.041667</td>\n",
       "      <td>0 days 00:00:00.243000</td>\n",
       "      <td>11070</td>\n",
       "      <td>240</td>\n",
       "      <td>6</td>\n",
       "      <td>100</td>\n",
       "      <td>0</td>\n",
       "      <td>8</td>\n",
       "      <td>pos</td>\n",
       "      <td>0.003206</td>\n",
       "      <td>OnTrack</td>\n",
       "      <td>692</td>\n",
       "      <td>2096</td>\n",
       "      <td>-239</td>\n",
       "      <td>16.164167</td>\n",
       "      <td>VER</td>\n",
       "    </tr>\n",
       "    <tr>\n",
       "      <th>6</th>\n",
       "      <td>2021-12-11 13:52:51.276</td>\n",
       "      <td>0 days 01:07:51.092000</td>\n",
       "      <td>11</td>\n",
       "      <td>366.041667</td>\n",
       "      <td>0 days 00:00:00.270000</td>\n",
       "      <td>11222</td>\n",
       "      <td>243</td>\n",
       "      <td>6</td>\n",
       "      <td>100</td>\n",
       "      <td>0</td>\n",
       "      <td>8</td>\n",
       "      <td>car</td>\n",
       "      <td>0.003559</td>\n",
       "      <td>OnTrack</td>\n",
       "      <td>710</td>\n",
       "      <td>2098</td>\n",
       "      <td>-239</td>\n",
       "      <td>17.986667</td>\n",
       "      <td>VER</td>\n",
       "    </tr>\n",
       "  </tbody>\n",
       "</table>\n",
       "</div>"
      ],
      "text/plain": [
       "                     Date            SessionTime DriverAhead  \\\n",
       "2 2021-12-11 13:52:51.006 0 days 01:07:50.822000               \n",
       "3 2021-12-11 13:52:51.029 0 days 01:07:50.845000               \n",
       "4 2021-12-11 13:52:51.036 0 days 01:07:50.852000               \n",
       "5 2021-12-11 13:52:51.249 0 days 01:07:51.065000               \n",
       "6 2021-12-11 13:52:51.276 0 days 01:07:51.092000          11   \n",
       "\n",
       "   DistanceToDriverAhead                   Time    RPM  Speed  nGear  \\\n",
       "2             366.041667        0 days 00:00:00  11049    234      5   \n",
       "3             366.041667 0 days 00:00:00.023000  11005    235      5   \n",
       "4             366.041667 0 days 00:00:00.030000  10918    238      6   \n",
       "5             366.041667 0 days 00:00:00.243000  11070    240      6   \n",
       "6             366.041667 0 days 00:00:00.270000  11222    243      6   \n",
       "\n",
       "   Throttle  Brake  DRS         Source  RelativeDistance   Status    X     Y  \\\n",
       "2       100      0    8  interpolation          0.000075  OnTrack  532  2076   \n",
       "3       100      0    8            pos          0.000368  OnTrack  546  2077   \n",
       "4       100      0    8            car          0.000458  OnTrack  550  2077   \n",
       "5       100      0    8            pos          0.003206  OnTrack  692  2096   \n",
       "6       100      0    8            car          0.003559  OnTrack  710  2098   \n",
       "\n",
       "     Z   Distance Driver  \n",
       "2 -241   0.000000    VER  \n",
       "3 -239   1.501389    VER  \n",
       "4 -238   1.964167    VER  \n",
       "5 -239  16.164167    VER  \n",
       "6 -239  17.986667    VER  "
      ]
     },
     "execution_count": 21,
     "metadata": {},
     "output_type": "execute_result"
    }
   ],
   "source": [
    "#Select all laps from Verstappen & Hamilton\n",
    "laps_ver = laps.pick_driver('VER')\n",
    "laps_ham = laps.pick_driver('HAM')\n",
    "\n",
    "#Get their fastest data telemetry\n",
    "fastest_ver = laps_ver.pick_fastest().get_telemetry().add_distance()\n",
    "fastest_ham = laps_ham.pick_fastest().get_telemetry().add_distance()\n",
    "\n",
    "#And add the driver variable\n",
    "fastest_ver['Driver'] = 'VER'\n",
    "fastest_ham['Driver'] = 'HAM'\n",
    "\n",
    "#Finally, merge both telemetry objects into a single dataframe\n",
    "telemetry = fastest_ver.append(fastest_ham)\n",
    "\n",
    "telemetry.head()"
   ]
  },
  {
   "cell_type": "markdown",
   "metadata": {},
   "source": [
    "### Creating minisectors for fastest lap analysis"
   ]
  },
  {
   "cell_type": "markdown",
   "metadata": {},
   "source": [
    "Now that we have their lap times, we can break the laps down into 'minisectors,' or chunks. Let's divide the lap into 25 pieces.\n",
    "\n",
    "For this section, I followed the lead of an interesting blog post that led me to discover the fastf1 package.\n",
    "https://medium.com/towards-formula-1-analysis/analyzing-formula-1-data-using-python-2021-abu-dhabi-gp-minisector-comparison-3d72aa39e5e8 "
   ]
  },
  {
   "cell_type": "code",
   "execution_count": 22,
   "metadata": {},
   "outputs": [
    {
     "name": "stdout",
     "output_type": "stream",
     "text": [
      "5228.6213888888915\n"
     ]
    }
   ],
   "source": [
    "#Define number of minisectors\n",
    "num_minisectors = 25\n",
    "\n",
    "#Get max distance on the track\n",
    "total_distance = total_distance = max(telemetry['Distance'])\n",
    "\n",
    "#Generate equally-sized mini-sectors\n",
    "minisector_length = total_distance/num_minisectors\n",
    "\n",
    "#Now we can find the point at which each minisector starts\n",
    "minisectors = [0]\n",
    "\n",
    "for i in range(0, (num_minisectors-1)):\n",
    "    minisectors.append(minisector_length * (i+1))\n",
    "\n",
    "#And we can figure out where in each minisector the car was at the moment the data point was recorded\n",
    "telemetry['Minisector'] = telemetry['Distance'].apply(\n",
    "    lambda dist: (\n",
    "        int((dist // minisector_length) + 1)\n",
    "    )\n",
    ")"
   ]
  },
  {
   "cell_type": "code",
   "execution_count": 23,
   "metadata": {},
   "outputs": [
    {
     "data": {
      "text/html": [
       "<div>\n",
       "<style scoped>\n",
       "    .dataframe tbody tr th:only-of-type {\n",
       "        vertical-align: middle;\n",
       "    }\n",
       "\n",
       "    .dataframe tbody tr th {\n",
       "        vertical-align: top;\n",
       "    }\n",
       "\n",
       "    .dataframe thead th {\n",
       "        text-align: right;\n",
       "    }\n",
       "</style>\n",
       "<table border=\"1\" class=\"dataframe\">\n",
       "  <thead>\n",
       "    <tr style=\"text-align: right;\">\n",
       "      <th></th>\n",
       "      <th>Date</th>\n",
       "      <th>SessionTime</th>\n",
       "      <th>DriverAhead</th>\n",
       "      <th>DistanceToDriverAhead</th>\n",
       "      <th>Time</th>\n",
       "      <th>RPM</th>\n",
       "      <th>Speed</th>\n",
       "      <th>nGear</th>\n",
       "      <th>Throttle</th>\n",
       "      <th>Brake</th>\n",
       "      <th>DRS</th>\n",
       "      <th>Source</th>\n",
       "      <th>RelativeDistance</th>\n",
       "      <th>Status</th>\n",
       "      <th>X</th>\n",
       "      <th>Y</th>\n",
       "      <th>Z</th>\n",
       "      <th>Distance</th>\n",
       "      <th>Driver</th>\n",
       "      <th>Minisector</th>\n",
       "    </tr>\n",
       "  </thead>\n",
       "  <tbody>\n",
       "    <tr>\n",
       "      <th>2</th>\n",
       "      <td>2021-12-11 13:52:51.006</td>\n",
       "      <td>0 days 01:07:50.822000</td>\n",
       "      <td></td>\n",
       "      <td>366.041667</td>\n",
       "      <td>0 days 00:00:00</td>\n",
       "      <td>11049</td>\n",
       "      <td>234</td>\n",
       "      <td>5</td>\n",
       "      <td>100</td>\n",
       "      <td>0</td>\n",
       "      <td>8</td>\n",
       "      <td>interpolation</td>\n",
       "      <td>0.000075</td>\n",
       "      <td>OnTrack</td>\n",
       "      <td>532</td>\n",
       "      <td>2076</td>\n",
       "      <td>-241</td>\n",
       "      <td>0.000000</td>\n",
       "      <td>VER</td>\n",
       "      <td>1</td>\n",
       "    </tr>\n",
       "    <tr>\n",
       "      <th>3</th>\n",
       "      <td>2021-12-11 13:52:51.029</td>\n",
       "      <td>0 days 01:07:50.845000</td>\n",
       "      <td></td>\n",
       "      <td>366.041667</td>\n",
       "      <td>0 days 00:00:00.023000</td>\n",
       "      <td>11005</td>\n",
       "      <td>235</td>\n",
       "      <td>5</td>\n",
       "      <td>100</td>\n",
       "      <td>0</td>\n",
       "      <td>8</td>\n",
       "      <td>pos</td>\n",
       "      <td>0.000368</td>\n",
       "      <td>OnTrack</td>\n",
       "      <td>546</td>\n",
       "      <td>2077</td>\n",
       "      <td>-239</td>\n",
       "      <td>1.501389</td>\n",
       "      <td>VER</td>\n",
       "      <td>1</td>\n",
       "    </tr>\n",
       "    <tr>\n",
       "      <th>4</th>\n",
       "      <td>2021-12-11 13:52:51.036</td>\n",
       "      <td>0 days 01:07:50.852000</td>\n",
       "      <td></td>\n",
       "      <td>366.041667</td>\n",
       "      <td>0 days 00:00:00.030000</td>\n",
       "      <td>10918</td>\n",
       "      <td>238</td>\n",
       "      <td>6</td>\n",
       "      <td>100</td>\n",
       "      <td>0</td>\n",
       "      <td>8</td>\n",
       "      <td>car</td>\n",
       "      <td>0.000458</td>\n",
       "      <td>OnTrack</td>\n",
       "      <td>550</td>\n",
       "      <td>2077</td>\n",
       "      <td>-238</td>\n",
       "      <td>1.964167</td>\n",
       "      <td>VER</td>\n",
       "      <td>1</td>\n",
       "    </tr>\n",
       "    <tr>\n",
       "      <th>5</th>\n",
       "      <td>2021-12-11 13:52:51.249</td>\n",
       "      <td>0 days 01:07:51.065000</td>\n",
       "      <td></td>\n",
       "      <td>366.041667</td>\n",
       "      <td>0 days 00:00:00.243000</td>\n",
       "      <td>11070</td>\n",
       "      <td>240</td>\n",
       "      <td>6</td>\n",
       "      <td>100</td>\n",
       "      <td>0</td>\n",
       "      <td>8</td>\n",
       "      <td>pos</td>\n",
       "      <td>0.003206</td>\n",
       "      <td>OnTrack</td>\n",
       "      <td>692</td>\n",
       "      <td>2096</td>\n",
       "      <td>-239</td>\n",
       "      <td>16.164167</td>\n",
       "      <td>VER</td>\n",
       "      <td>1</td>\n",
       "    </tr>\n",
       "    <tr>\n",
       "      <th>6</th>\n",
       "      <td>2021-12-11 13:52:51.276</td>\n",
       "      <td>0 days 01:07:51.092000</td>\n",
       "      <td>11</td>\n",
       "      <td>366.041667</td>\n",
       "      <td>0 days 00:00:00.270000</td>\n",
       "      <td>11222</td>\n",
       "      <td>243</td>\n",
       "      <td>6</td>\n",
       "      <td>100</td>\n",
       "      <td>0</td>\n",
       "      <td>8</td>\n",
       "      <td>car</td>\n",
       "      <td>0.003559</td>\n",
       "      <td>OnTrack</td>\n",
       "      <td>710</td>\n",
       "      <td>2098</td>\n",
       "      <td>-239</td>\n",
       "      <td>17.986667</td>\n",
       "      <td>VER</td>\n",
       "      <td>1</td>\n",
       "    </tr>\n",
       "  </tbody>\n",
       "</table>\n",
       "</div>"
      ],
      "text/plain": [
       "                     Date            SessionTime DriverAhead  \\\n",
       "2 2021-12-11 13:52:51.006 0 days 01:07:50.822000               \n",
       "3 2021-12-11 13:52:51.029 0 days 01:07:50.845000               \n",
       "4 2021-12-11 13:52:51.036 0 days 01:07:50.852000               \n",
       "5 2021-12-11 13:52:51.249 0 days 01:07:51.065000               \n",
       "6 2021-12-11 13:52:51.276 0 days 01:07:51.092000          11   \n",
       "\n",
       "   DistanceToDriverAhead                   Time    RPM  Speed  nGear  \\\n",
       "2             366.041667        0 days 00:00:00  11049    234      5   \n",
       "3             366.041667 0 days 00:00:00.023000  11005    235      5   \n",
       "4             366.041667 0 days 00:00:00.030000  10918    238      6   \n",
       "5             366.041667 0 days 00:00:00.243000  11070    240      6   \n",
       "6             366.041667 0 days 00:00:00.270000  11222    243      6   \n",
       "\n",
       "   Throttle  Brake  DRS         Source  RelativeDistance   Status    X     Y  \\\n",
       "2       100      0    8  interpolation          0.000075  OnTrack  532  2076   \n",
       "3       100      0    8            pos          0.000368  OnTrack  546  2077   \n",
       "4       100      0    8            car          0.000458  OnTrack  550  2077   \n",
       "5       100      0    8            pos          0.003206  OnTrack  692  2096   \n",
       "6       100      0    8            car          0.003559  OnTrack  710  2098   \n",
       "\n",
       "     Z   Distance Driver  Minisector  \n",
       "2 -241   0.000000    VER           1  \n",
       "3 -239   1.501389    VER           1  \n",
       "4 -238   1.964167    VER           1  \n",
       "5 -239  16.164167    VER           1  \n",
       "6 -239  17.986667    VER           1  "
      ]
     },
     "execution_count": 23,
     "metadata": {},
     "output_type": "execute_result"
    }
   ],
   "source": [
    "telemetry.head()"
   ]
  },
  {
   "cell_type": "markdown",
   "metadata": {},
   "source": [
    "### Who was the fastest driver in each minisector?"
   ]
  },
  {
   "cell_type": "markdown",
   "metadata": {},
   "source": [
    "Now we can analyze who was quickest in each minisector. I'll calculate Hamilton's average difference in speed to Verstappen across all 25 minisectors, and then calculate Verstappen's to Hamilton's."
   ]
  },
  {
   "cell_type": "code",
   "execution_count": 24,
   "metadata": {},
   "outputs": [],
   "source": [
    "#Calculate Hamilton gap\n",
    "average_speed = telemetry.groupby(['Minisector', 'Driver'])['Speed'].mean().reset_index().sort_values(by=['Minisector', 'Driver'], ascending = (True, False))\n",
    "average_speed['ham_speed_gap'] = (average_speed.groupby(['Minisector'])['Speed'].apply(pd.Series.pct_change))\n",
    "\n",
    "#Calculate Verstappen gaps\n",
    "average_speed = average_speed.sort_values(by = ['Minisector', 'Driver'], ascending = (True))\n",
    "average_speed['ver_speed_gap'] = (average_speed.groupby('Minisector')['Speed'].apply(pd.Series.pct_change))\n",
    "\n",
    "#Combine & clean up\n",
    "average_speed['gap'] = np.where(average_speed['ham_speed_gap'].isnull(),average_speed['ver_speed_gap'], average_speed['ham_speed_gap'])\n",
    "average_speed = average_speed.drop(columns=['ham_speed_gap', 'ver_speed_gap'])\n"
   ]
  },
  {
   "cell_type": "markdown",
   "metadata": {},
   "source": [
    "### Analyzing Speed of Each Minisector\n",
    "\n",
    "One final piece of analysis I'll perform is to assign each minisector to 'low,' 'medium,' or 'high' speed depending on the average speed each driver achieved through the sector. This could tell us if one driver exceled at quicker or slower parts of the lap."
   ]
  },
  {
   "cell_type": "code",
   "execution_count": 25,
   "metadata": {},
   "outputs": [],
   "source": [
    "#Apply to dataframe\n",
    "average_speed['Sector_speed'] = average_speed['Speed'].apply(lambda x: 'Low' if x < average_speed['Speed'].quantile(q=.33) else 'Medium' if x < average_speed['Speed'].quantile(q=.66) else 'High')\n"
   ]
  },
  {
   "cell_type": "markdown",
   "metadata": {},
   "source": [
    "### Graph Results"
   ]
  },
  {
   "cell_type": "markdown",
   "metadata": {},
   "source": [
    "Now we can graph the results. I gave plotnine a try here, as I like how it replicates the syntax of ggplot."
   ]
  },
  {
   "cell_type": "code",
   "execution_count": 26,
   "metadata": {},
   "outputs": [
    {
     "name": "stderr",
     "output_type": "stream",
     "text": [
      "<ipython-input-26-7fe30333814f>:5: SettingWithCopyWarning: \n",
      "A value is trying to be set on a copy of a slice from a DataFrame.\n",
      "Try using .loc[row_indexer,col_indexer] = value instead\n",
      "\n",
      "See the caveats in the documentation: https://pandas.pydata.org/pandas-docs/stable/user_guide/indexing.html#returning-a-view-versus-a-copy\n"
     ]
    },
    {
     "data": {
      "image/png": "[encoded data removed]",
      "text/plain": [
       "<Figure size 640x480 with 1 Axes>"
      ]
     },
     "metadata": {},
     "output_type": "display_data"
    },
    {
     "name": "stdout",
     "output_type": "stream",
     "text": [
      "\n"
     ]
    }
   ],
   "source": [
    "from plotnine import ggplot, coord_flip, aes, facet_wrap, geom_col, theme_538, scale_fill_manual, labs, ggtitle, guides, scale_y_continuous, scale_color_manual\n",
    "#Create a dataset focusing on Hamilton\n",
    "ham_gap = average_speed[average_speed['Driver']=='HAM']\n",
    "#And add an indicator for if he was faster than Verstappen in this minisector\n",
    "ham_gap['faster'] = ham_gap['gap'].apply(lambda x: 'true' if x <= 0 else 'false')\n",
    "\n",
    "a = (ggplot(ham_gap)\n",
    "     + geom_col(aes(x=\"Minisector\", y = \"gap\", fill = \"Sector_speed\", color = 'faster'))\n",
    "     + theme_538()\n",
    "     + labs(x='Track Minisector', y = 'Percent Gap to Verstappen')\n",
    "     + ggtitle('Hamilton Average Gap to Verstappen - Abu Dhabi GP 2021 Qualifying')\n",
    "     + guides(color = False, size = False)\n",
    "     + scale_y_continuous(labels=lambda l: [\"%d%%\" % (v * 100) for v in l])\n",
    "     + scale_color_manual(values = ['red', 'green'])\n",
    "     + scale_fill_manual(values = ['tab:green', 'tab:orange', 'tab:blue'])\n",
    ")\n",
    "print(a)\n"
   ]
  },
  {
   "cell_type": "markdown",
   "metadata": {},
   "source": [
    "This chart reveals some interesting insight. You can see that Hamilton actually consistently outpaced Verstappen in the high-speed sections of the track, but as the lap wore on Verstappen was able to claw the gap back, plus some, in the lower-speed final sections of the lap. There were a couple of minisectors in particular where Max really pulled ahead."
   ]
  },
  {
   "cell_type": "markdown",
   "metadata": {},
   "source": [
    "## Part II: All Drivers QUalifying\n",
    "\n",
    "We can replicate this analysis on a wider scale to look at every driver's performance during this qualifying session. The best comparison point for a driver is their teammate, so I'll compare each driver against his teammate for this session to get a quick & insightful view of which drivers outperformed or under-performed"
   ]
  },
  {
   "cell_type": "markdown",
   "metadata": {},
   "source": [
    "#### Assembling the data"
   ]
  },
  {
   "cell_type": "code",
   "execution_count": 27,
   "metadata": {},
   "outputs": [
    {
     "name": "stdout",
     "output_type": "stream",
     "text": [
      "<class 'pandas.core.frame.DataFrame'>\n",
      "Int64Index: 14583 entries, 2 to 746\n",
      "Data columns (total 19 columns):\n",
      " #   Column                 Non-Null Count  Dtype          \n",
      "---  ------                 --------------  -----          \n",
      " 0   Date                   14583 non-null  datetime64[ns] \n",
      " 1   SessionTime            14583 non-null  timedelta64[ns]\n",
      " 2   DriverAhead            14583 non-null  object         \n",
      " 3   DistanceToDriverAhead  13858 non-null  float64        \n",
      " 4   Time                   14583 non-null  timedelta64[ns]\n",
      " 5   RPM                    14583 non-null  int64          \n",
      " 6   Speed                  14583 non-null  int64          \n",
      " 7   nGear                  14583 non-null  int64          \n",
      " 8   Throttle               14583 non-null  int64          \n",
      " 9   Brake                  14583 non-null  int64          \n",
      " 10  DRS                    14583 non-null  int64          \n",
      " 11  Source                 14583 non-null  object         \n",
      " 12  RelativeDistance       14583 non-null  float64        \n",
      " 13  Status                 14583 non-null  object         \n",
      " 14  X                      14583 non-null  int64          \n",
      " 15  Y                      14583 non-null  int64          \n",
      " 16  Z                      14583 non-null  int64          \n",
      " 17  Distance               14583 non-null  float64        \n",
      " 18  Driver                 14583 non-null  object         \n",
      "dtypes: datetime64[ns](1), float64(3), int64(9), object(4), timedelta64[ns](2)\n",
      "memory usage: 2.2+ MB\n"
     ]
    }
   ],
   "source": [
    "#Generate a driver & team list\n",
    "driver_team = pd.DataFrame({'Driver':['VER', 'PER', 'HAM', 'BOT', 'LEC', 'SAI', 'RIC', 'NOR', 'ALO', 'OCO'\n",
    "                                      , 'VET', 'STR', 'GAS', 'TSU', 'RUS', 'LAT', 'RAI', 'GIO', 'MSC', 'MAZ'],\n",
    "                            'Team': ['Red Bull', 'Red Bull', 'Mercedes', 'Mercedes', 'Ferrari', 'Ferrari', 'McLaren', 'McLaren', 'Alpine', 'Alpine'\n",
    "                                     , 'Aston Martin', 'Aston Martin', 'Alpha Tauri', 'Alpha Tauri', 'Williams', 'Williams', 'Alfa Romeo' , 'Alfa Romeo', 'Haas', 'Haas']})\n",
    "\n",
    "driver_list = driver_team['Driver']\n",
    "#Loop through that list to get data for all drivers\n",
    "#Loop that grabs the fastest lap for every driver in this session\n",
    "df = pd.DataFrame([])\n",
    "\n",
    "for drv in driver_list:\n",
    "    fastest = laps.pick_driver(drv).pick_fastest().get_telemetry().add_distance()\n",
    "    #And add the driver variable\n",
    "    fastest['Driver'] = drv\n",
    "    fastest = pd.DataFrame(fastest)\n",
    "    #Finally, merge both telemetry objects into a single dataframe\n",
    "    df = df.append(fastest)\n",
    "    \n",
    "df.info()"
   ]
  },
  {
   "cell_type": "markdown",
   "metadata": {},
   "source": [
    "#### Minisector Assignment"
   ]
  },
  {
   "cell_type": "code",
   "execution_count": 28,
   "metadata": {},
   "outputs": [],
   "source": [
    "#As before, generate minisector data and attach it to our main dataframe\n",
    "num_minisectors = 25\n",
    "\n",
    "#Get max distance on the track\n",
    "total_distance = total_distance = max(df['Distance'])\n",
    "\n",
    "#Generate equally-sized mini-sectors\n",
    "minisector_length = total_distance/num_minisectors + .01\n",
    "#Now we can find the point at which each minisector starts\n",
    "minisectors = [0]\n",
    "\n",
    "for i in range(0, (num_minisectors-1)):\n",
    "    minisectors.append(minisector_length * (i+1))\n",
    "\n",
    "df['Minisector'] = df['Distance'].apply(\n",
    "    lambda dist: (\n",
    "        int((dist // minisector_length) +1)\n",
    "    )\n",
    ")\n",
    "\n",
    "#And add team data to the df\n",
    "df = df.merge(driver_team, how = 'inner', on = 'Driver')"
   ]
  },
  {
   "cell_type": "markdown",
   "metadata": {},
   "source": [
    "#### Calculate each driver's gap to their teammate"
   ]
  },
  {
   "cell_type": "code",
   "execution_count": 29,
   "metadata": {},
   "outputs": [],
   "source": [
    "#First - create an object that ranks overall speed of each driver, so that we ensure each team's faster driver is the one that comes out ahead vs. his teammate (ie the gap in speed is always positive for the faster driver)\n",
    "r = df.groupby(['Driver']).mean().reset_index()[[\"Driver\", \"Speed\"]]\n",
    "r['rank'] = r['Speed'].rank(ascending = False)\n",
    "r = r.drop('Speed', axis = 1)\n",
    "#And merge into the dataframe\n",
    "df = df.merge(r, how = 'left', on = 'Driver')\n",
    "\n",
    "#Calculate the faster driver's gap to their teammate\n",
    "average_speed = df.groupby(['Minisector', 'Team', 'rank', 'Driver'])['Speed'].mean().reset_index().sort_values(by=['Team', 'Minisector', 'rank'], ascending = (True))\n"
   ]
  },
  {
   "cell_type": "code",
   "execution_count": 30,
   "metadata": {},
   "outputs": [],
   "source": [
    "#Assign each minisector a speed category, as in Part I\n",
    "#Except we assign speed based on all drivers' average speed through that minisector\n",
    "sector_speed = df.groupby(['Minisector'])['Speed'].mean().reset_index()\n",
    "sector_speed['Sector_speed'] = sector_speed['Speed'].apply(lambda x: 'Low' if x < sector_speed['Speed'].quantile(q=.33) else 'Medium' if x < sector_speed['Speed'].quantile(q=.66) else 'High')\n",
    "\n",
    "sector_speed = sector_speed.drop('Speed', axis=1)\n",
    "\n",
    "average_speed = average_speed.merge(sector_speed, how = 'left', on = 'Minisector')"
   ]
  },
  {
   "cell_type": "markdown",
   "metadata": {},
   "source": [
    "#### And now we can look at each team's intra-team performance"
   ]
  },
  {
   "cell_type": "code",
   "execution_count": 31,
   "metadata": {},
   "outputs": [],
   "source": [
    "#Calculate the faster driver's gap to their teammate\n",
    "team_gap = average_speed.groupby(['Team', 'Driver'])['Speed'].mean().reset_index().sort_values(by = ['Team', 'Speed'], ascending = (True, False))\n",
    "team_gap['gap_faster'] = (team_gap.groupby('Team')['Speed'].apply(pd.Series.pct_change))\n",
    "#And the slower driver's gap\n",
    "team_gap = team_gap.sort_values(by = ['Team', 'Speed'], ascending = (True))\n",
    "team_gap['gap_slower'] = (team_gap.groupby('Team')['Speed'].apply(pd.Series.pct_change))\n",
    "\n",
    "#And merge together\n",
    "team_gap['speed_gap'] = np.where(team_gap['gap_faster'].isnull(), team_gap['gap_slower'], team_gap['gap_faster'])\n",
    "team_gap = team_gap.drop(['gap_faster', 'gap_slower'], axis = 1).sort_values(by = 'speed_gap', ascending = False)"
   ]
  },
  {
   "cell_type": "code",
   "execution_count": 33,
   "metadata": {},
   "outputs": [
    {
     "data": {
      "image/png": "[encoded data removed]",
      "text/plain": [
       "<Figure size 640x480 with 1 Axes>"
      ]
     },
     "metadata": {},
     "output_type": "display_data"
    },
    {
     "name": "stdout",
     "output_type": "stream",
     "text": [
      "\n"
     ]
    }
   ],
   "source": [
    "from plotnine import geom_col, theme_538, scale_fill_manual, labs, ggtitle, guides, scale_y_continuous, scale_color_manual, scale_fill_manual, coord_flip\n",
    "from mizani.formatters import custom_format\n",
    "\n",
    "team_gap['speed_gap_pct'] = team_gap['speed_gap']*100\n",
    "\n",
    "driver_list = team_gap.sort_values(by = 'speed_gap', ascending = False)['Driver'].tolist()\n",
    "driver_cat = pd.Categorical(team_gap['Driver'], categories = driver_list)\n",
    "\n",
    "team_palette = {'Alfa Romeo':'tab:red', 'Alpha Tauri':'midnightblue', 'Alpine':'tab:blue', 'Aston Martin':'darkcyan', 'Ferrari':'red'\n",
    "                , 'Haas': 'darkgrey', 'McLaren': 'orange', 'Mercedes':'tab:cyan', 'Red Bull':'navy', 'Williams':'dodgerblue'}\n",
    "team_palette = pd.DataFrame.from_dict(team_palette, orient='index').reset_index()\n",
    "team_palette.rename(columns={\"index\":\"Team\", 0:\"Color\"})\n",
    "\n",
    "colors = team_palette[0].tolist()\n",
    "\n",
    "a = (ggplot(team_gap, aes(x=\"driver_cat\", y = \"speed_gap_pct\", fill = \"Team\"))\n",
    "     + geom_col()\n",
    "     + theme_538()\n",
    "     + labs(x='Driver', y = 'Percent Gap to Teammate')\n",
    "     + ggtitle(\"Each Driver's Gap to Teammate - Abu Dhabi GP 2021 Qualifying\")\n",
    "     + guides(color = False, size = False)\n",
    "     + scale_y_continuous(labels=custom_format('{:.1f}%'))\n",
    "     + coord_flip()\n",
    "     + scale_fill_manual(values = colors)\n",
    ")\n",
    "\n",
    "print(a)"
   ]
  },
  {
   "cell_type": "markdown",
   "metadata": {},
   "source": [
    "So there you have it. You can see that while Part I established that Verstappen beat Hamilton head-to-head, Hamilton actually beat his teammate Bottas (BOT) in a very convincing fashion during the session. Also of note here, we see that as per usual last year the Ferrari drivers were neck & neck while Mick Schumacher (MSC) handily defeated his teammate (MAZ) in qualifying.\n",
    "\n",
    "This analysis was meant as an exercise for me to explore some new data and get familiar with Python functions. I hope you enjoyed!"
   ]
  }
 ],
 "metadata": {
  "interpreter": {
   "hash": "4e0f95acda27a413e9062644f9c69e531daa6bb68e85e50cfb7d80e604410da5"
  },
  "kernelspec": {
   "display_name": "Python 3.8.11 64-bit ('base': conda)",
   "language": "python",
   "name": "python3"
  },
  "language_info": {
   "codemirror_mode": {
    "name": "ipython",
    "version": 3
   },
   "file_extension": ".py",
   "mimetype": "text/x-python",
   "name": "python",
   "nbconvert_exporter": "python",
   "pygments_lexer": "ipython3",
   "version": "3.8.11"
  },
  "orig_nbformat": 4
 },
 "nbformat": 4,
 "nbformat_minor": 2
}
